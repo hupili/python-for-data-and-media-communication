{
 "cells": [
  {
   "cell_type": "markdown",
   "metadata": {},
   "source": [
    "Key points:\n",
    "\n",
    "- Qidian does not put the numbers on the page using regular characters.\n",
    "- They use blank characters in regular font and load their custom font in order to show the numbers on the page.\n",
    "\n",
    "Related issue:\n",
    "\n",
    "- https://github.com/hupili/python-for-data-and-media-communication-gitbook/issues/85\n",
    "\n",
    "References:\n",
    "\n",
    "- https://scripts.sil.org/cms/scripts/page.php?site_id=nrsi&id=iws-chapter08#05931f9d\n",
    "- http://silnrsi.github.io/FDBP/en-US/Glyph_Naming.html"
   ]
  },
  {
   "cell_type": "code",
   "execution_count": 3,
   "metadata": {},
   "outputs": [
    {
     "name": "stderr",
     "output_type": "stream",
     "text": [
      "/Users/hupili/Desktop/project/python-for-data-and-media-communication/venv/lib/python3.6/site-packages/bs4/__init__.py:181: UserWarning: No parser was explicitly specified, so I'm using the best available HTML parser for this system (\"lxml\"). This usually isn't a problem, but if you run this code on another system, or in a different virtual environment, it may use a different parser and behave differently.\n",
      "\n",
      "The code that caused this warning is on line 193 of the file /usr/local/Cellar/python3/3.6.4_2/Frameworks/Python.framework/Versions/3.6/lib/python3.6/runpy.py. To get rid of this warning, change code that looks like this:\n",
      "\n",
      " BeautifulSoup(YOUR_MARKUP})\n",
      "\n",
      "to this:\n",
      "\n",
      " BeautifulSoup(YOUR_MARKUP, \"lxml\")\n",
      "\n",
      "  markup_type=markup_type))\n"
     ]
    }
   ],
   "source": [
    "import requests\n",
    "from bs4 import BeautifulSoup\n",
    "url = 'https://www.qidian.com/all?chanId=2&subCateId=5&size=1&action=0&orderId=&vip=0&month=3&update=1&style=1&pageSize=20&siteid=1&pubflag=0&hiddenField=0&page=1'\n",
    "r=requests.get(url)\n",
    "mypage=BeautifulSoup(r.text)\n",
    "#mypage"
   ]
  },
  {
   "cell_type": "code",
   "execution_count": 5,
   "metadata": {},
   "outputs": [],
   "source": [
    "#import json\n",
    "#json.dumps(a[45].find('span').text)\n",
    "#json.dumps(a[48].find('span').text)"
   ]
  },
  {
   "cell_type": "code",
   "execution_count": 7,
   "metadata": {},
   "outputs": [],
   "source": [
    "myul = mypage.find('ul', attrs={'class': 'all-img-list cf'})"
   ]
  },
  {
   "cell_type": "code",
   "execution_count": 8,
   "metadata": {},
   "outputs": [],
   "source": [
    "lis = myul.find_all('li')"
   ]
  },
  {
   "cell_type": "code",
   "execution_count": 10,
   "metadata": {},
   "outputs": [
    {
     "data": {
      "text/plain": [
       "20"
      ]
     },
     "execution_count": 10,
     "metadata": {},
     "output_type": "execute_result"
    }
   ],
   "source": [
    "len(lis)"
   ]
  },
  {
   "cell_type": "markdown",
   "metadata": {},
   "source": [
    "Let's solve one first. Then you can use a loop to solve the rest"
   ]
  },
  {
   "cell_type": "code",
   "execution_count": 11,
   "metadata": {},
   "outputs": [],
   "source": [
    "li = lis[0]"
   ]
  },
  {
   "cell_type": "code",
   "execution_count": 15,
   "metadata": {},
   "outputs": [
    {
     "data": {
      "text/plain": [
       "'武侠之我的系统好多坑'"
      ]
     },
     "execution_count": 15,
     "metadata": {},
     "output_type": "execute_result"
    }
   ],
   "source": [
    "li.find('h4').find('a').text"
   ]
  },
  {
   "cell_type": "code",
   "execution_count": 17,
   "metadata": {},
   "outputs": [
    {
     "data": {
      "text/plain": [
       "'桃木斧'"
      ]
     },
     "execution_count": 17,
     "metadata": {},
     "output_type": "execute_result"
    }
   ],
   "source": [
    "li.find('p', attrs={'class': 'author'}).find('a', attrs={'class': 'name'}).text"
   ]
  },
  {
   "cell_type": "code",
   "execution_count": 18,
   "metadata": {},
   "outputs": [
    {
     "data": {
      "text/plain": [
       "'//my.qidian.com/author/402876878'"
      ]
     },
     "execution_count": 18,
     "metadata": {},
     "output_type": "execute_result"
    }
   ],
   "source": [
    "li.find('p', attrs={'class': 'author'}).find('a', attrs={'class': 'name'})['href']"
   ]
  },
  {
   "cell_type": "code",
   "execution_count": 21,
   "metadata": {},
   "outputs": [],
   "source": [
    "span = li.find('p', attrs={'class': 'update'}).find('span')"
   ]
  },
  {
   "cell_type": "code",
   "execution_count": 24,
   "metadata": {},
   "outputs": [
    {
     "data": {
      "text/plain": [
       "\"@font-face { font-family: BMvPuniI; src: url('https://qidian.gtimg.com/qd_anti_spider/BMvPuniI.eot?') format('eot'); src: url('https://qidian.gtimg.com/qd_anti_spider/BMvPuniI.woff') format('woff'), url('https://qidian.gtimg.com/qd_anti_spider/BMvPuniI.ttf') format('truetype'); } .BMvPuniI { font-family: 'BMvPuniI' !important;     display: initial !important; color: inherit !important; vertical-align: initial !important; }\""
      ]
     },
     "execution_count": 24,
     "metadata": {},
     "output_type": "execute_result"
    }
   ],
   "source": [
    "span.find('style').text"
   ]
  },
  {
   "cell_type": "code",
   "execution_count": 25,
   "metadata": {},
   "outputs": [
    {
     "data": {
      "text/plain": [
       "'https://qidian.gtimg.com/qd_anti_spider/BMvPuniI.eot'"
      ]
     },
     "execution_count": 25,
     "metadata": {},
     "output_type": "execute_result"
    }
   ],
   "source": [
    "'https://qidian.gtimg.com/qd_anti_spider/BMvPuniI.eot'"
   ]
  },
  {
   "cell_type": "markdown",
   "metadata": {},
   "source": [
    "Checkout the font path from another request"
   ]
  },
  {
   "cell_type": "code",
   "execution_count": 27,
   "metadata": {},
   "outputs": [
    {
     "name": "stderr",
     "output_type": "stream",
     "text": [
      "/Users/hupili/Desktop/project/python-for-data-and-media-communication/venv/lib/python3.6/site-packages/bs4/__init__.py:181: UserWarning: No parser was explicitly specified, so I'm using the best available HTML parser for this system (\"lxml\"). This usually isn't a problem, but if you run this code on another system, or in a different virtual environment, it may use a different parser and behave differently.\n",
      "\n",
      "The code that caused this warning is on line 193 of the file /usr/local/Cellar/python3/3.6.4_2/Frameworks/Python.framework/Versions/3.6/lib/python3.6/runpy.py. To get rid of this warning, change code that looks like this:\n",
      "\n",
      " BeautifulSoup(YOUR_MARKUP})\n",
      "\n",
      "to this:\n",
      "\n",
      " BeautifulSoup(YOUR_MARKUP, \"lxml\")\n",
      "\n",
      "  markup_type=markup_type))\n"
     ]
    },
    {
     "data": {
      "text/plain": [
       "\"@font-face { font-family: VszXmgbM; src: url('https://qidian.gtimg.com/qd_anti_spider/VszXmgbM.eot?') format('eot'); src: url('https://qidian.gtimg.com/qd_anti_spider/VszXmgbM.woff') format('woff'), url('https://qidian.gtimg.com/qd_anti_spider/VszXmgbM.ttf') format('truetype'); } .VszXmgbM { font-family: 'VszXmgbM' !important;     display: initial !important; color: inherit !important; vertical-align: initial !important; }\""
      ]
     },
     "execution_count": 27,
     "metadata": {},
     "output_type": "execute_result"
    }
   ],
   "source": [
    "import requests\n",
    "from bs4 import BeautifulSoup\n",
    "\n",
    "url = 'https://www.qidian.com/all?chanId=2&subCateId=5&size=1&action=0&orderId=&vip=0&month=3&update=1&style=1&pageSize=20&siteid=1&pubflag=0&hiddenField=0&page=1'\n",
    "r=requests.get(url)\n",
    "\n",
    "mypage=BeautifulSoup(r.text)\n",
    "myul = mypage.find('ul', attrs={'class': 'all-img-list cf'})\n",
    "lis = myul.find_all('li')\n",
    "\n",
    "li = lis[2]\n",
    "span = li.find('p', attrs={'class': 'update'}).find('span')\n",
    "span.find('style').text"
   ]
  },
  {
   "cell_type": "markdown",
   "metadata": {},
   "source": [
    "## Observation\n",
    "\n",
    "- The easy method does not work out.\n",
    "- Font file is different every time we request the page.\n",
    "- We need a way to parse the font file."
   ]
  },
  {
   "cell_type": "markdown",
   "metadata": {},
   "source": [
    "## Try to decode the font"
   ]
  },
  {
   "cell_type": "code",
   "execution_count": 29,
   "metadata": {},
   "outputs": [
    {
     "name": "stdout",
     "output_type": "stream",
     "text": [
      "--2018-11-16 21:40:02--  https://qidian.gtimg.com/qd_anti_spider/VszXmgbM.ttf\n",
      "Resolving qidian.gtimg.com (qidian.gtimg.com)... 203.205.158.60\n",
      "Connecting to qidian.gtimg.com (qidian.gtimg.com)|203.205.158.60|:443... connected.\n",
      "HTTP request sent, awaiting response... 200 OK\n",
      "Length: 18096 (18K) [application/octet-stream]\n",
      "Saving to: ‘VszXmgbM.ttf’\n",
      "\n",
      "VszXmgbM.ttf        100%[===================>]  17.67K  --.-KB/s    in 0s      \n",
      "\n",
      "2018-11-16 21:40:02 (82.2 MB/s) - ‘VszXmgbM.ttf’ saved [18096/18096]\n",
      "\n"
     ]
    }
   ],
   "source": [
    "!wget 'https://qidian.gtimg.com/qd_anti_spider/VszXmgbM.ttf'"
   ]
  },
  {
   "cell_type": "code",
   "execution_count": 30,
   "metadata": {},
   "outputs": [
    {
     "data": {
      "text/plain": [
       "<fontTools.ttLib.ttFont.TTFont at 0x10d32cac8>"
      ]
     },
     "execution_count": 30,
     "metadata": {},
     "output_type": "execute_result"
    }
   ],
   "source": [
    "from fontTools.ttLib import TTFont\n",
    "font = TTFont('VszXmgbM.ttf')\n",
    "font"
   ]
  },
  {
   "cell_type": "code",
   "execution_count": 33,
   "metadata": {},
   "outputs": [
    {
     "data": {
      "text/plain": [
       "['.notdef',\n",
       " 'eight',\n",
       " 'five',\n",
       " 'four',\n",
       " 'nine',\n",
       " 'one',\n",
       " 'period',\n",
       " 'seven',\n",
       " 'six',\n",
       " 'three',\n",
       " 'two',\n",
       " 'zero']"
      ]
     },
     "execution_count": 33,
     "metadata": {},
     "output_type": "execute_result"
    }
   ],
   "source": [
    "font.getGlyphNames()"
   ]
  },
  {
   "cell_type": "code",
   "execution_count": 38,
   "metadata": {},
   "outputs": [
    {
     "data": {
      "text/plain": [
       "['.notdef',\n",
       " 'period',\n",
       " 'zero',\n",
       " 'one',\n",
       " 'two',\n",
       " 'three',\n",
       " 'four',\n",
       " 'five',\n",
       " 'six',\n",
       " 'seven',\n",
       " 'eight',\n",
       " 'nine']"
      ]
     },
     "execution_count": 38,
     "metadata": {},
     "output_type": "execute_result"
    }
   ],
   "source": [
    "font.getGlyphOrder()"
   ]
  },
  {
   "cell_type": "code",
   "execution_count": 40,
   "metadata": {},
   "outputs": [
    {
     "data": {
      "text/plain": [
       "{'maxp': <'maxp' table at 10d5d1fd0>, 'post': <'post' table at 10d5d1d30>}"
      ]
     },
     "execution_count": 40,
     "metadata": {},
     "output_type": "execute_result"
    }
   ],
   "source": [
    "font.tables"
   ]
  },
  {
   "cell_type": "code",
   "execution_count": 43,
   "metadata": {},
   "outputs": [
    {
     "data": {
      "text/plain": [
       "b'\\x00\\x01\\x00\\x00\\x00\\x0c\\x001\\x00\\x03\\x00\\x00\\x00\\x00\\x00\\x02\\x00\\x10\\x00/\\x00V\\x00\\x00\\x04\\r\\n\\xff\\x00\\x00\\x00\\x00'"
      ]
     },
     "execution_count": 43,
     "metadata": {},
     "output_type": "execute_result"
    }
   ],
   "source": [
    "font.getTableData('maxp')"
   ]
  },
  {
   "cell_type": "code",
   "execution_count": 44,
   "metadata": {},
   "outputs": [
    {
     "data": {
      "text/plain": [
       "b\"\\x00\\x02\\x00\\x00\\x00\\x00\\x00\\x00\\xff'\\x00\\x96\\x00\\x00\\x00\\x00\\x00\\x00\\x00\\x00\\x00\\x00\\x00\\x00\\x00\\x00\\x00\\x00\\x00\\x00\\x00\\x0c\\x00\\x0c\\x00\\x00\\x00\\x11\\x00\\x13\\x00\\x14\\x00\\x15\\x00\\x16\\x00\\x17\\x00\\x18\\x00\\x19\\x00\\x1a\\x00\\x1b\\x00\\x1c\""
      ]
     },
     "execution_count": 44,
     "metadata": {},
     "output_type": "execute_result"
    }
   ],
   "source": [
    "font.getTableData('post')"
   ]
  },
  {
   "cell_type": "code",
   "execution_count": 49,
   "metadata": {},
   "outputs": [
    {
     "data": {
      "text/plain": [
       "b\"\\x00\\x02\\x00\\x00\\x00\\x00\\x00\\x00\\xff'\\x00\\x96\\x00\\x00\\x00\\x00\\x00\\x00\\x00\\x00\\x00\\x00\\x00\\x00\\x00\\x00\\x00\\x00\\x00\\x00\\x00\\x0c\\x00\\x0c\\x00\\x00\\x00\\x11\\x00\\x13\\x00\\x14\\x00\\x15\\x00\\x16\\x00\\x17\\x00\\x18\\x00\\x19\\x00\\x1a\\x00\\x1b\\x00\\x1c\""
      ]
     },
     "execution_count": 49,
     "metadata": {},
     "output_type": "execute_result"
    }
   ],
   "source": [
    "font.getTableData('post')"
   ]
  },
  {
   "cell_type": "code",
   "execution_count": 53,
   "metadata": {},
   "outputs": [
    {
     "data": {
      "text/plain": [
       "2"
      ]
     },
     "execution_count": 53,
     "metadata": {},
     "output_type": "execute_result"
    }
   ],
   "source": [
    "font.getGlyphID('zero')"
   ]
  },
  {
   "cell_type": "code",
   "execution_count": 54,
   "metadata": {},
   "outputs": [
    {
     "data": {
      "text/plain": [
       "9"
      ]
     },
     "execution_count": 54,
     "metadata": {},
     "output_type": "execute_result"
    }
   ],
   "source": [
    "font.getGlyphID('seven')"
   ]
  },
  {
   "cell_type": "code",
   "execution_count": 56,
   "metadata": {},
   "outputs": [
    {
     "data": {
      "text/plain": [
       "'one'"
      ]
     },
     "execution_count": 56,
     "metadata": {},
     "output_type": "execute_result"
    }
   ],
   "source": [
    "font.getGlyphName(3)"
   ]
  },
  {
   "cell_type": "code",
   "execution_count": 57,
   "metadata": {},
   "outputs": [
    {
     "data": {
      "text/plain": [
       "{100376: 'eight',\n",
       " 100378: 'five',\n",
       " 100379: 'one',\n",
       " 100380: 'period',\n",
       " 100381: 'four',\n",
       " 100382: 'seven',\n",
       " 100383: 'three',\n",
       " 100384: 'two',\n",
       " 100385: 'six',\n",
       " 100386: 'nine',\n",
       " 100387: 'zero'}"
      ]
     },
     "execution_count": 57,
     "metadata": {},
     "output_type": "execute_result"
    }
   ],
   "source": [
    "font.getBestCmap()"
   ]
  },
  {
   "cell_type": "code",
   "execution_count": 60,
   "metadata": {},
   "outputs": [
    {
     "data": {
      "text/plain": [
       "<fontTools.ttLib.ttFont._TTGlyphSet at 0x10ce752e8>"
      ]
     },
     "execution_count": 60,
     "metadata": {},
     "output_type": "execute_result"
    }
   ],
   "source": [
    "font.getGlyphSet()"
   ]
  },
  {
   "cell_type": "code",
   "execution_count": 62,
   "metadata": {},
   "outputs": [
    {
     "data": {
      "text/plain": [
       "{'.notdef': 0,\n",
       " 'eight': 10,\n",
       " 'five': 7,\n",
       " 'four': 6,\n",
       " 'nine': 11,\n",
       " 'one': 3,\n",
       " 'period': 1,\n",
       " 'seven': 9,\n",
       " 'six': 8,\n",
       " 'three': 5,\n",
       " 'two': 4,\n",
       " 'zero': 2}"
      ]
     },
     "execution_count": 62,
     "metadata": {},
     "output_type": "execute_result"
    }
   ],
   "source": [
    "font.getReverseGlyphMap()"
   ]
  },
  {
   "cell_type": "code",
   "execution_count": 63,
   "metadata": {},
   "outputs": [
    {
     "data": {
      "text/plain": [
       "<span><style>@font-face { font-family: VszXmgbM; src: url('https://qidian.gtimg.com/qd_anti_spider/VszXmgbM.eot?') format('eot'); src: url('https://qidian.gtimg.com/qd_anti_spider/VszXmgbM.woff') format('woff'), url('https://qidian.gtimg.com/qd_anti_spider/VszXmgbM.ttf') format('truetype'); } .VszXmgbM { font-family: 'VszXmgbM' !important;     display: initial !important; color: inherit !important; vertical-align: initial !important; }</style><span class=\"VszXmgbM\">𘠛𘠣𘠜𘠟𘠟</span>万字</span>"
      ]
     },
     "execution_count": 63,
     "metadata": {},
     "output_type": "execute_result"
    }
   ],
   "source": [
    "span"
   ]
  },
  {
   "cell_type": "code",
   "execution_count": 67,
   "metadata": {},
   "outputs": [
    {
     "data": {
      "text/plain": [
       "'𘠛𘠣𘠜𘠟𘠟'"
      ]
     },
     "execution_count": 67,
     "metadata": {},
     "output_type": "execute_result"
    }
   ],
   "source": [
    "span.find('span').text"
   ]
  },
  {
   "cell_type": "markdown",
   "metadata": {},
   "source": [
    "\"10.33万字\" as we can read from the page"
   ]
  },
  {
   "cell_type": "code",
   "execution_count": 69,
   "metadata": {},
   "outputs": [
    {
     "data": {
      "text/plain": [
       "'\"\\\\ud822\\\\udc1b\\\\ud822\\\\udc23\\\\ud822\\\\udc1c\\\\ud822\\\\udc1f\\\\ud822\\\\udc1f\"'"
      ]
     },
     "execution_count": 69,
     "metadata": {},
     "output_type": "execute_result"
    }
   ],
   "source": [
    "import json\n",
    "json.dumps(span.find('span').text)"
   ]
  },
  {
   "cell_type": "code",
   "execution_count": 70,
   "metadata": {},
   "outputs": [],
   "source": [
    "number = span.find('span').text"
   ]
  },
  {
   "cell_type": "code",
   "execution_count": 71,
   "metadata": {},
   "outputs": [
    {
     "data": {
      "text/plain": [
       "5"
      ]
     },
     "execution_count": 71,
     "metadata": {},
     "output_type": "execute_result"
    }
   ],
   "source": [
    "len(number)"
   ]
  },
  {
   "cell_type": "code",
   "execution_count": 74,
   "metadata": {},
   "outputs": [
    {
     "data": {
      "text/plain": [
       "100379"
      ]
     },
     "execution_count": 74,
     "metadata": {},
     "output_type": "execute_result"
    }
   ],
   "source": [
    "ord(number[0])"
   ]
  },
  {
   "cell_type": "code",
   "execution_count": 76,
   "metadata": {},
   "outputs": [
    {
     "data": {
      "text/plain": [
       "['one', 'zero', 'period', 'three', 'three']"
      ]
     },
     "execution_count": 76,
     "metadata": {},
     "output_type": "execute_result"
    }
   ],
   "source": [
    "[font.getBestCmap().get(ord(n)) for n in number]"
   ]
  },
  {
   "cell_type": "markdown",
   "metadata": {},
   "source": [
    "Up to this point, you should be able to decode the numbers"
   ]
  },
  {
   "cell_type": "markdown",
   "metadata": {},
   "source": [
    "## Put it all together"
   ]
  },
  {
   "cell_type": "code",
   "execution_count": 109,
   "metadata": {},
   "outputs": [],
   "source": [
    "glyph_names = ['period',\n",
    " 'zero',\n",
    " 'one',\n",
    " 'two',\n",
    " 'three',\n",
    " 'four',\n",
    " 'five',\n",
    " 'six',\n",
    " 'seven',\n",
    " 'eight',\n",
    " 'nine']\n",
    "glyph_values = ['.'] + [str(i) for i in list(range(0, 10))]\n",
    "glyph_name_to_char = dict(zip(glyph_names, glyph_values))"
   ]
  },
  {
   "cell_type": "code",
   "execution_count": 110,
   "metadata": {},
   "outputs": [
    {
     "data": {
      "text/plain": [
       "{'eight': '8',\n",
       " 'five': '5',\n",
       " 'four': '4',\n",
       " 'nine': '9',\n",
       " 'one': '1',\n",
       " 'period': '.',\n",
       " 'seven': '7',\n",
       " 'six': '6',\n",
       " 'three': '3',\n",
       " 'two': '2',\n",
       " 'zero': '0'}"
      ]
     },
     "execution_count": 110,
     "metadata": {},
     "output_type": "execute_result"
    }
   ],
   "source": [
    "glyph_name_to_char"
   ]
  },
  {
   "cell_type": "code",
   "execution_count": 111,
   "metadata": {},
   "outputs": [
    {
     "name": "stderr",
     "output_type": "stream",
     "text": [
      "/Users/hupili/Desktop/project/python-for-data-and-media-communication/venv/lib/python3.6/site-packages/bs4/__init__.py:181: UserWarning: No parser was explicitly specified, so I'm using the best available HTML parser for this system (\"lxml\"). This usually isn't a problem, but if you run this code on another system, or in a different virtual environment, it may use a different parser and behave differently.\n",
      "\n",
      "The code that caused this warning is on line 193 of the file /usr/local/Cellar/python3/3.6.4_2/Frameworks/Python.framework/Versions/3.6/lib/python3.6/runpy.py. To get rid of this warning, change code that looks like this:\n",
      "\n",
      " BeautifulSoup(YOUR_MARKUP})\n",
      "\n",
      "to this:\n",
      "\n",
      " BeautifulSoup(YOUR_MARKUP, \"lxml\")\n",
      "\n",
      "  markup_type=markup_type))\n"
     ]
    }
   ],
   "source": [
    "import requests\n",
    "from bs4 import BeautifulSoup\n",
    "\n",
    "url = 'https://www.qidian.com/all?chanId=2&subCateId=5&size=1&action=0&orderId=&vip=0&month=3&update=1&style=1&pageSize=20&siteid=1&pubflag=0&hiddenField=0&page=1'\n",
    "r=requests.get(url)\n",
    "\n",
    "mypage=BeautifulSoup(r.text)\n",
    "myul = mypage.find('ul', attrs={'class': 'all-img-list cf'})\n",
    "lis = myul.find_all('li')"
   ]
  },
  {
   "cell_type": "code",
   "execution_count": 112,
   "metadata": {},
   "outputs": [
    {
     "data": {
      "text/plain": [
       "\"@font-face { font-family: UgmQYVaF; src: url('https://qidian.gtimg.com/qd_anti_spider/UgmQYVaF.eot?') format('eot'); src: url('https://qidian.gtimg.com/qd_anti_spider/UgmQYVaF.woff') format('woff'), url('https://qidian.gtimg.com/qd_anti_spider/UgmQYVaF.ttf') format('truetype'); } .UgmQYVaF { font-family: 'UgmQYVaF' !important;     display: initial !important; color: inherit !important; vertical-align: initial !important; }\""
      ]
     },
     "execution_count": 112,
     "metadata": {},
     "output_type": "execute_result"
    }
   ],
   "source": [
    "li = lis[2]\n",
    "span = li.find('p', attrs={'class': 'update'}).find('span')\n",
    "span.find('style').text"
   ]
  },
  {
   "cell_type": "code",
   "execution_count": 113,
   "metadata": {},
   "outputs": [],
   "source": [
    "import re"
   ]
  },
  {
   "cell_type": "code",
   "execution_count": 114,
   "metadata": {},
   "outputs": [],
   "source": [
    "pattern_ttf = re.compile(r'https://qidian.gtimg.com/qd_anti_spider/[^\\.]*\\.ttf')"
   ]
  },
  {
   "cell_type": "code",
   "execution_count": 115,
   "metadata": {},
   "outputs": [],
   "source": [
    "url_ttf = pattern_ttf.search(span.find('style').text).group()"
   ]
  },
  {
   "cell_type": "code",
   "execution_count": 116,
   "metadata": {},
   "outputs": [
    {
     "data": {
      "text/plain": [
       "18084"
      ]
     },
     "execution_count": 116,
     "metadata": {},
     "output_type": "execute_result"
    }
   ],
   "source": [
    "r = requests.get(url_ttf)\n",
    "open('tmp.ttf', 'wb').write(r.content)"
   ]
  },
  {
   "cell_type": "code",
   "execution_count": 117,
   "metadata": {},
   "outputs": [],
   "source": [
    "from fontTools.ttLib import TTFont\n",
    "font = TTFont('tmp.ttf')"
   ]
  },
  {
   "cell_type": "code",
   "execution_count": 120,
   "metadata": {},
   "outputs": [],
   "source": [
    "def decode_number(s):\n",
    "    ret = ''\n",
    "    for c in s:\n",
    "        ret += glyph_name_to_char.get(font.getBestCmap().get(ord(c)))\n",
    "    return ret"
   ]
  },
  {
   "cell_type": "code",
   "execution_count": 132,
   "metadata": {},
   "outputs": [],
   "source": [
    "data = []\n",
    "for li in lis:\n",
    "    title = li.find('h4').find('a').text\n",
    "    author = li.find('p', attrs={'class': 'author'}).find('a', attrs={'class': 'name'}).text\n",
    "    author_url = li.find('p', attrs={'class': 'author'}).find('a', attrs={'class': 'name'})['href']\n",
    "    span = li.find('p', attrs={'class': 'update'}).find('span')\n",
    "    length = decode_number(span.find('span').text)\n",
    "    data.append((title, author, author_url, length))"
   ]
  },
  {
   "cell_type": "code",
   "execution_count": 133,
   "metadata": {},
   "outputs": [],
   "source": [
    "import pandas as pd"
   ]
  },
  {
   "cell_type": "code",
   "execution_count": 134,
   "metadata": {},
   "outputs": [
    {
     "data": {
      "text/html": [
       "<div>\n",
       "<style scoped>\n",
       "    .dataframe tbody tr th:only-of-type {\n",
       "        vertical-align: middle;\n",
       "    }\n",
       "\n",
       "    .dataframe tbody tr th {\n",
       "        vertical-align: top;\n",
       "    }\n",
       "\n",
       "    .dataframe thead th {\n",
       "        text-align: right;\n",
       "    }\n",
       "</style>\n",
       "<table border=\"1\" class=\"dataframe\">\n",
       "  <thead>\n",
       "    <tr style=\"text-align: right;\">\n",
       "      <th></th>\n",
       "      <th>0</th>\n",
       "      <th>1</th>\n",
       "      <th>2</th>\n",
       "      <th>3</th>\n",
       "    </tr>\n",
       "  </thead>\n",
       "  <tbody>\n",
       "    <tr>\n",
       "      <th>0</th>\n",
       "      <td>武侠之我的系统好多坑</td>\n",
       "      <td>桃木斧</td>\n",
       "      <td>//my.qidian.com/author/402876878</td>\n",
       "      <td>25.41</td>\n",
       "    </tr>\n",
       "    <tr>\n",
       "      <th>1</th>\n",
       "      <td>江湖没有传说</td>\n",
       "      <td>零双丶</td>\n",
       "      <td>//my.qidian.com/author/401731179</td>\n",
       "      <td>8.92</td>\n",
       "    </tr>\n",
       "    <tr>\n",
       "      <th>2</th>\n",
       "      <td>江湖龙侠传</td>\n",
       "      <td>古城公子</td>\n",
       "      <td>//my.qidian.com/author/400671752</td>\n",
       "      <td>10.33</td>\n",
       "    </tr>\n",
       "    <tr>\n",
       "      <th>3</th>\n",
       "      <td>女县令的捕快</td>\n",
       "      <td>将军仔</td>\n",
       "      <td>//my.qidian.com/author/403055601</td>\n",
       "      <td>13.72</td>\n",
       "    </tr>\n",
       "    <tr>\n",
       "      <th>4</th>\n",
       "      <td>日暮江湖</td>\n",
       "      <td>一步天城</td>\n",
       "      <td>//my.qidian.com/author/3409577</td>\n",
       "      <td>20.61</td>\n",
       "    </tr>\n",
       "    <tr>\n",
       "      <th>5</th>\n",
       "      <td>古朝奇侠传</td>\n",
       "      <td>半拍大大啊</td>\n",
       "      <td>//my.qidian.com/author/402257737</td>\n",
       "      <td>8.94</td>\n",
       "    </tr>\n",
       "    <tr>\n",
       "      <th>6</th>\n",
       "      <td>铁衣卫</td>\n",
       "      <td>铁昊</td>\n",
       "      <td>//my.qidian.com/author/401972545</td>\n",
       "      <td>13.33</td>\n",
       "    </tr>\n",
       "    <tr>\n",
       "      <th>7</th>\n",
       "      <td>长缨缚苍龙</td>\n",
       "      <td>尊敬的喵大人</td>\n",
       "      <td>//my.qidian.com/author/401978803</td>\n",
       "      <td>14.49</td>\n",
       "    </tr>\n",
       "    <tr>\n",
       "      <th>8</th>\n",
       "      <td>醉卧江湖之多情</td>\n",
       "      <td>抚琴诉离殇</td>\n",
       "      <td>//my.qidian.com/author/403068838</td>\n",
       "      <td>17.58</td>\n",
       "    </tr>\n",
       "    <tr>\n",
       "      <th>9</th>\n",
       "      <td>琅嬛阁</td>\n",
       "      <td>羽庸龙II</td>\n",
       "      <td>//my.qidian.com/author/403389718</td>\n",
       "      <td>5.17</td>\n",
       "    </tr>\n",
       "    <tr>\n",
       "      <th>10</th>\n",
       "      <td>截拳霸天下</td>\n",
       "      <td>一叶西来</td>\n",
       "      <td>//my.qidian.com/author/403166996</td>\n",
       "      <td>24.72</td>\n",
       "    </tr>\n",
       "    <tr>\n",
       "      <th>11</th>\n",
       "      <td>剑映神川</td>\n",
       "      <td>月下骕骦</td>\n",
       "      <td>//my.qidian.com/author/4994812</td>\n",
       "      <td>11.29</td>\n",
       "    </tr>\n",
       "    <tr>\n",
       "      <th>12</th>\n",
       "      <td>清秋琵琶曲</td>\n",
       "      <td>败笔苏半城</td>\n",
       "      <td>//my.qidian.com/author/403395887</td>\n",
       "      <td>4.16</td>\n",
       "    </tr>\n",
       "    <tr>\n",
       "      <th>13</th>\n",
       "      <td>扇舞江湖</td>\n",
       "      <td>Lelori</td>\n",
       "      <td>//my.qidian.com/author/403141928</td>\n",
       "      <td>7.46</td>\n",
       "    </tr>\n",
       "    <tr>\n",
       "      <th>14</th>\n",
       "      <td>龙游江湖—武林神话</td>\n",
       "      <td>萤下野</td>\n",
       "      <td>//my.qidian.com/author/401848908</td>\n",
       "      <td>7.64</td>\n",
       "    </tr>\n",
       "    <tr>\n",
       "      <th>15</th>\n",
       "      <td>封武之巅</td>\n",
       "      <td>木子萍</td>\n",
       "      <td>//my.qidian.com/author/402701213</td>\n",
       "      <td>20.3</td>\n",
       "    </tr>\n",
       "    <tr>\n",
       "      <th>16</th>\n",
       "      <td>桃花令主</td>\n",
       "      <td>小小的世概</td>\n",
       "      <td>//my.qidian.com/author/403206298</td>\n",
       "      <td>17.87</td>\n",
       "    </tr>\n",
       "    <tr>\n",
       "      <th>17</th>\n",
       "      <td>杀破狼奇侠传</td>\n",
       "      <td>断觞G</td>\n",
       "      <td>//my.qidian.com/author/12450638</td>\n",
       "      <td>4.15</td>\n",
       "    </tr>\n",
       "    <tr>\n",
       "      <th>18</th>\n",
       "      <td>大唐盛世之惊天奇案</td>\n",
       "      <td>冷悬空</td>\n",
       "      <td>//my.qidian.com/author/403353153</td>\n",
       "      <td>4.44</td>\n",
       "    </tr>\n",
       "    <tr>\n",
       "      <th>19</th>\n",
       "      <td>江湖黑杀令</td>\n",
       "      <td>一萧一剑</td>\n",
       "      <td>//my.qidian.com/author/403314717</td>\n",
       "      <td>9.54</td>\n",
       "    </tr>\n",
       "  </tbody>\n",
       "</table>\n",
       "</div>"
      ],
      "text/plain": [
       "             0       1                                 2      3\n",
       "0   武侠之我的系统好多坑     桃木斧  //my.qidian.com/author/402876878  25.41\n",
       "1       江湖没有传说     零双丶  //my.qidian.com/author/401731179   8.92\n",
       "2        江湖龙侠传    古城公子  //my.qidian.com/author/400671752  10.33\n",
       "3       女县令的捕快     将军仔  //my.qidian.com/author/403055601  13.72\n",
       "4         日暮江湖    一步天城    //my.qidian.com/author/3409577  20.61\n",
       "5        古朝奇侠传   半拍大大啊  //my.qidian.com/author/402257737   8.94\n",
       "6          铁衣卫      铁昊  //my.qidian.com/author/401972545  13.33\n",
       "7        长缨缚苍龙  尊敬的喵大人  //my.qidian.com/author/401978803  14.49\n",
       "8      醉卧江湖之多情   抚琴诉离殇  //my.qidian.com/author/403068838  17.58\n",
       "9          琅嬛阁   羽庸龙II  //my.qidian.com/author/403389718   5.17\n",
       "10       截拳霸天下    一叶西来  //my.qidian.com/author/403166996  24.72\n",
       "11        剑映神川    月下骕骦    //my.qidian.com/author/4994812  11.29\n",
       "12       清秋琵琶曲   败笔苏半城  //my.qidian.com/author/403395887   4.16\n",
       "13        扇舞江湖  Lelori  //my.qidian.com/author/403141928   7.46\n",
       "14   龙游江湖—武林神话     萤下野  //my.qidian.com/author/401848908   7.64\n",
       "15        封武之巅     木子萍  //my.qidian.com/author/402701213   20.3\n",
       "16        桃花令主   小小的世概  //my.qidian.com/author/403206298  17.87\n",
       "17      杀破狼奇侠传     断觞G   //my.qidian.com/author/12450638   4.15\n",
       "18   大唐盛世之惊天奇案     冷悬空  //my.qidian.com/author/403353153   4.44\n",
       "19       江湖黑杀令    一萧一剑  //my.qidian.com/author/403314717   9.54"
      ]
     },
     "execution_count": 134,
     "metadata": {},
     "output_type": "execute_result"
    }
   ],
   "source": [
    "pd.DataFrame(data)"
   ]
  },
  {
   "cell_type": "code",
   "execution_count": null,
   "metadata": {},
   "outputs": [],
   "source": []
  }
 ],
 "metadata": {
  "kernelspec": {
   "display_name": "Python 3",
   "language": "python",
   "name": "python3"
  },
  "language_info": {
   "codemirror_mode": {
    "name": "ipython",
    "version": 3
   },
   "file_extension": ".py",
   "mimetype": "text/x-python",
   "name": "python",
   "nbconvert_exporter": "python",
   "pygments_lexer": "ipython3",
   "version": "3.6.4"
  }
 },
 "nbformat": 4,
 "nbformat_minor": 2
}
