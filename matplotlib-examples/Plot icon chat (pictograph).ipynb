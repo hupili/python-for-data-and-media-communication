{
 "cells": [
  {
   "cell_type": "markdown",
   "metadata": {},
   "source": [
    "original question: https://github.com/hupili/python-for-data-and-media-communication-gitbook/issues/148\n",
    "\n",
    "Potential solution:\n",
    "\n",
    "* https://stackoverflow.com/questions/22566284/matplotlib-how-to-plot-images-instead-of-points\n",
    "* https://matplotlib.org/1.5.3/examples/pylab_examples/demo_annotation_box.html\n",
    "\n",
    "The above Stack Overflow answer misses `.add_artist()` call. The solution below is a combination of above resources."
   ]
  },
  {
   "cell_type": "code",
   "execution_count": 1,
   "metadata": {},
   "outputs": [
    {
     "data": {
      "image/png": "[encoded data removed]",
      "text/plain": [
       "<PIL.PngImagePlugin.PngImageFile image mode=RGBA size=532x140 at 0x10F5A5128>"
      ]
     },
     "execution_count": 1,
     "metadata": {},
     "output_type": "execute_result"
    }
   ],
   "source": [
    "from PIL import Image\n",
    "im_path = 'finish-icon.png'\n",
    "target = Image.open(im_path)\n",
    "target"
   ]
  },
  {
   "cell_type": "code",
   "execution_count": 2,
   "metadata": {},
   "outputs": [],
   "source": [
    "import matplotlib.pyplot as plt\n",
    "from matplotlib.offsetbox import OffsetImage, AnnotationBbox\n",
    "\n",
    "oi = OffsetImage(plt.imread(im_path), zoom=0.5)\n",
    "\n",
    "xpos = [-300, -300, -300, 0, 0, 0, 300, 300, 300]\n",
    "ypos = [-533, 0, 533, -533, 0, 533, -533, 0, 533]\n",
    "\n",
    "fig, ax = plt.subplots(figsize=(20,20))# 设置图大小\n",
    "ax.set_ylim(800,-800) # 设置坐标轴\n",
    "ax.set_xlim(-600,600)\n",
    "\n",
    "# ax.scatter(x, y, marker='o', color='blue', alpha=0.3, edgecolor='black') 蓝色点就先不传数据啦\n",
    "ax.scatter(xpos, ypos, marker='o', color='green')\n",
    "\n",
    "plt.title('hotzone scatter plot ')\n",
    "for x, y in zip(xpos, ypos):\n",
    "    ab = AnnotationBbox(oi, (x, y), frameon=False)\n",
    "    ax.add_artist(ab)"
   ]
  },
  {
   "cell_type": "code",
   "execution_count": 3,
   "metadata": {},
   "outputs": [],
   "source": [
    "#plt.imshow(oi.image)"
   ]
  },
  {
   "cell_type": "code",
   "execution_count": null,
   "metadata": {},
   "outputs": [],
   "source": []
  }
 ],
 "metadata": {
  "kernelspec": {
   "display_name": "Python 3",
   "language": "python",
   "name": "python3"
  },
  "language_info": {
   "codemirror_mode": {
    "name": "ipython",
    "version": 3
   },
   "file_extension": ".py",
   "mimetype": "text/x-python",
   "name": "python",
   "nbconvert_exporter": "python",
   "pygments_lexer": "ipython3",
   "version": "3.7.3"
  }
 },
 "nbformat": 4,
 "nbformat_minor": 2
}
