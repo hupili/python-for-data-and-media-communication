{
 "cells": [
  {
   "cell_type": "code",
   "execution_count": 1,
   "metadata": {},
   "outputs": [],
   "source": [
    "import pandas as pd"
   ]
  },
  {
   "cell_type": "code",
   "execution_count": 3,
   "metadata": {},
   "outputs": [],
   "source": [
    "df = pd.read_csv('1973-UC-Berkeley-Admission-Data-Synthesis-Data.csv')"
   ]
  },
  {
   "cell_type": "code",
   "execution_count": 6,
   "metadata": {},
   "outputs": [
    {
     "data": {
      "text/html": [
       "<div>\n",
       "<style scoped>\n",
       "    .dataframe tbody tr th:only-of-type {\n",
       "        vertical-align: middle;\n",
       "    }\n",
       "\n",
       "    .dataframe tbody tr th {\n",
       "        vertical-align: top;\n",
       "    }\n",
       "\n",
       "    .dataframe thead th {\n",
       "        text-align: right;\n",
       "    }\n",
       "</style>\n",
       "<table border=\"1\" class=\"dataframe\">\n",
       "  <thead>\n",
       "    <tr style=\"text-align: right;\">\n",
       "      <th></th>\n",
       "      <th>Department</th>\n",
       "      <th>Male-Admitted</th>\n",
       "      <th>Male-Denied</th>\n",
       "      <th>Female-Admitted</th>\n",
       "      <th>Female-Denied</th>\n",
       "    </tr>\n",
       "  </thead>\n",
       "  <tbody>\n",
       "    <tr>\n",
       "      <th>0</th>\n",
       "      <td>A</td>\n",
       "      <td>512</td>\n",
       "      <td>313</td>\n",
       "      <td>89</td>\n",
       "      <td>19</td>\n",
       "    </tr>\n",
       "    <tr>\n",
       "      <th>1</th>\n",
       "      <td>B</td>\n",
       "      <td>313</td>\n",
       "      <td>207</td>\n",
       "      <td>17</td>\n",
       "      <td>8</td>\n",
       "    </tr>\n",
       "    <tr>\n",
       "      <th>2</th>\n",
       "      <td>C</td>\n",
       "      <td>101</td>\n",
       "      <td>205</td>\n",
       "      <td>202</td>\n",
       "      <td>391</td>\n",
       "    </tr>\n",
       "    <tr>\n",
       "      <th>3</th>\n",
       "      <td>D</td>\n",
       "      <td>138</td>\n",
       "      <td>279</td>\n",
       "      <td>131</td>\n",
       "      <td>244</td>\n",
       "    </tr>\n",
       "    <tr>\n",
       "      <th>4</th>\n",
       "      <td>E</td>\n",
       "      <td>40</td>\n",
       "      <td>138</td>\n",
       "      <td>94</td>\n",
       "      <td>299</td>\n",
       "    </tr>\n",
       "    <tr>\n",
       "      <th>5</th>\n",
       "      <td>F</td>\n",
       "      <td>22</td>\n",
       "      <td>351</td>\n",
       "      <td>24</td>\n",
       "      <td>317</td>\n",
       "    </tr>\n",
       "  </tbody>\n",
       "</table>\n",
       "</div>"
      ],
      "text/plain": [
       "  Department  Male-Admitted  Male-Denied  Female-Admitted  Female-Denied\n",
       "0          A            512          313               89             19\n",
       "1          B            313          207               17              8\n",
       "2          C            101          205              202            391\n",
       "3          D            138          279              131            244\n",
       "4          E             40          138               94            299\n",
       "5          F             22          351               24            317"
      ]
     },
     "execution_count": 6,
     "metadata": {},
     "output_type": "execute_result"
    }
   ],
   "source": [
    "df"
   ]
  },
  {
   "cell_type": "code",
   "execution_count": 9,
   "metadata": {},
   "outputs": [
    {
     "data": {
      "text/plain": [
       "0    825\n",
       "1    520\n",
       "2    306\n",
       "3    417\n",
       "4    178\n",
       "5    373\n",
       "dtype: int64"
      ]
     },
     "execution_count": 9,
     "metadata": {},
     "output_type": "execute_result"
    }
   ],
   "source": [
    "a = df['Male-Admitted']\n",
    "b = df['Male-Denied']\n",
    "a + b"
   ]
  },
  {
   "cell_type": "code",
   "execution_count": 10,
   "metadata": {},
   "outputs": [
    {
     "data": {
      "text/plain": [
       "0    0.620606\n",
       "1    0.601923\n",
       "2    0.330065\n",
       "3    0.330935\n",
       "4    0.224719\n",
       "5    0.058981\n",
       "dtype: float64"
      ]
     },
     "execution_count": 10,
     "metadata": {},
     "output_type": "execute_result"
    }
   ],
   "source": [
    "df['Male-Admitted'] / (df['Male-Admitted'] + df['Male-Denied'])"
   ]
  },
  {
   "cell_type": "code",
   "execution_count": 12,
   "metadata": {},
   "outputs": [],
   "source": [
    "df['Male-Ratio'] = df['Male-Admitted'] / (df['Male-Admitted'] + df['Male-Denied'])"
   ]
  },
  {
   "cell_type": "code",
   "execution_count": 13,
   "metadata": {},
   "outputs": [
    {
     "data": {
      "text/html": [
       "<div>\n",
       "<style scoped>\n",
       "    .dataframe tbody tr th:only-of-type {\n",
       "        vertical-align: middle;\n",
       "    }\n",
       "\n",
       "    .dataframe tbody tr th {\n",
       "        vertical-align: top;\n",
       "    }\n",
       "\n",
       "    .dataframe thead th {\n",
       "        text-align: right;\n",
       "    }\n",
       "</style>\n",
       "<table border=\"1\" class=\"dataframe\">\n",
       "  <thead>\n",
       "    <tr style=\"text-align: right;\">\n",
       "      <th></th>\n",
       "      <th>Department</th>\n",
       "      <th>Male-Admitted</th>\n",
       "      <th>Male-Denied</th>\n",
       "      <th>Female-Admitted</th>\n",
       "      <th>Female-Denied</th>\n",
       "      <th>Male-Ratio</th>\n",
       "    </tr>\n",
       "  </thead>\n",
       "  <tbody>\n",
       "    <tr>\n",
       "      <th>0</th>\n",
       "      <td>A</td>\n",
       "      <td>512</td>\n",
       "      <td>313</td>\n",
       "      <td>89</td>\n",
       "      <td>19</td>\n",
       "      <td>0.620606</td>\n",
       "    </tr>\n",
       "    <tr>\n",
       "      <th>1</th>\n",
       "      <td>B</td>\n",
       "      <td>313</td>\n",
       "      <td>207</td>\n",
       "      <td>17</td>\n",
       "      <td>8</td>\n",
       "      <td>0.601923</td>\n",
       "    </tr>\n",
       "    <tr>\n",
       "      <th>2</th>\n",
       "      <td>C</td>\n",
       "      <td>101</td>\n",
       "      <td>205</td>\n",
       "      <td>202</td>\n",
       "      <td>391</td>\n",
       "      <td>0.330065</td>\n",
       "    </tr>\n",
       "    <tr>\n",
       "      <th>3</th>\n",
       "      <td>D</td>\n",
       "      <td>138</td>\n",
       "      <td>279</td>\n",
       "      <td>131</td>\n",
       "      <td>244</td>\n",
       "      <td>0.330935</td>\n",
       "    </tr>\n",
       "    <tr>\n",
       "      <th>4</th>\n",
       "      <td>E</td>\n",
       "      <td>40</td>\n",
       "      <td>138</td>\n",
       "      <td>94</td>\n",
       "      <td>299</td>\n",
       "      <td>0.224719</td>\n",
       "    </tr>\n",
       "    <tr>\n",
       "      <th>5</th>\n",
       "      <td>F</td>\n",
       "      <td>22</td>\n",
       "      <td>351</td>\n",
       "      <td>24</td>\n",
       "      <td>317</td>\n",
       "      <td>0.058981</td>\n",
       "    </tr>\n",
       "  </tbody>\n",
       "</table>\n",
       "</div>"
      ],
      "text/plain": [
       "  Department  Male-Admitted  Male-Denied  Female-Admitted  Female-Denied  \\\n",
       "0          A            512          313               89             19   \n",
       "1          B            313          207               17              8   \n",
       "2          C            101          205              202            391   \n",
       "3          D            138          279              131            244   \n",
       "4          E             40          138               94            299   \n",
       "5          F             22          351               24            317   \n",
       "\n",
       "   Male-Ratio  \n",
       "0    0.620606  \n",
       "1    0.601923  \n",
       "2    0.330065  \n",
       "3    0.330935  \n",
       "4    0.224719  \n",
       "5    0.058981  "
      ]
     },
     "execution_count": 13,
     "metadata": {},
     "output_type": "execute_result"
    }
   ],
   "source": [
    "df"
   ]
  },
  {
   "cell_type": "code",
   "execution_count": 14,
   "metadata": {},
   "outputs": [],
   "source": [
    "df['Female-Ratio'] = df['Female-Admitted'] / (df['Female-Admitted'] + df['Female-Denied'])"
   ]
  },
  {
   "cell_type": "code",
   "execution_count": 15,
   "metadata": {},
   "outputs": [
    {
     "data": {
      "text/html": [
       "<div>\n",
       "<style scoped>\n",
       "    .dataframe tbody tr th:only-of-type {\n",
       "        vertical-align: middle;\n",
       "    }\n",
       "\n",
       "    .dataframe tbody tr th {\n",
       "        vertical-align: top;\n",
       "    }\n",
       "\n",
       "    .dataframe thead th {\n",
       "        text-align: right;\n",
       "    }\n",
       "</style>\n",
       "<table border=\"1\" class=\"dataframe\">\n",
       "  <thead>\n",
       "    <tr style=\"text-align: right;\">\n",
       "      <th></th>\n",
       "      <th>Department</th>\n",
       "      <th>Male-Admitted</th>\n",
       "      <th>Male-Denied</th>\n",
       "      <th>Female-Admitted</th>\n",
       "      <th>Female-Denied</th>\n",
       "      <th>Male-Ratio</th>\n",
       "      <th>Female-Ratio</th>\n",
       "    </tr>\n",
       "  </thead>\n",
       "  <tbody>\n",
       "    <tr>\n",
       "      <th>0</th>\n",
       "      <td>A</td>\n",
       "      <td>512</td>\n",
       "      <td>313</td>\n",
       "      <td>89</td>\n",
       "      <td>19</td>\n",
       "      <td>0.620606</td>\n",
       "      <td>0.824074</td>\n",
       "    </tr>\n",
       "    <tr>\n",
       "      <th>1</th>\n",
       "      <td>B</td>\n",
       "      <td>313</td>\n",
       "      <td>207</td>\n",
       "      <td>17</td>\n",
       "      <td>8</td>\n",
       "      <td>0.601923</td>\n",
       "      <td>0.680000</td>\n",
       "    </tr>\n",
       "    <tr>\n",
       "      <th>2</th>\n",
       "      <td>C</td>\n",
       "      <td>101</td>\n",
       "      <td>205</td>\n",
       "      <td>202</td>\n",
       "      <td>391</td>\n",
       "      <td>0.330065</td>\n",
       "      <td>0.340641</td>\n",
       "    </tr>\n",
       "    <tr>\n",
       "      <th>3</th>\n",
       "      <td>D</td>\n",
       "      <td>138</td>\n",
       "      <td>279</td>\n",
       "      <td>131</td>\n",
       "      <td>244</td>\n",
       "      <td>0.330935</td>\n",
       "      <td>0.349333</td>\n",
       "    </tr>\n",
       "    <tr>\n",
       "      <th>4</th>\n",
       "      <td>E</td>\n",
       "      <td>40</td>\n",
       "      <td>138</td>\n",
       "      <td>94</td>\n",
       "      <td>299</td>\n",
       "      <td>0.224719</td>\n",
       "      <td>0.239186</td>\n",
       "    </tr>\n",
       "    <tr>\n",
       "      <th>5</th>\n",
       "      <td>F</td>\n",
       "      <td>22</td>\n",
       "      <td>351</td>\n",
       "      <td>24</td>\n",
       "      <td>317</td>\n",
       "      <td>0.058981</td>\n",
       "      <td>0.070381</td>\n",
       "    </tr>\n",
       "  </tbody>\n",
       "</table>\n",
       "</div>"
      ],
      "text/plain": [
       "  Department  Male-Admitted  Male-Denied  Female-Admitted  Female-Denied  \\\n",
       "0          A            512          313               89             19   \n",
       "1          B            313          207               17              8   \n",
       "2          C            101          205              202            391   \n",
       "3          D            138          279              131            244   \n",
       "4          E             40          138               94            299   \n",
       "5          F             22          351               24            317   \n",
       "\n",
       "   Male-Ratio  Female-Ratio  \n",
       "0    0.620606      0.824074  \n",
       "1    0.601923      0.680000  \n",
       "2    0.330065      0.340641  \n",
       "3    0.330935      0.349333  \n",
       "4    0.224719      0.239186  \n",
       "5    0.058981      0.070381  "
      ]
     },
     "execution_count": 15,
     "metadata": {},
     "output_type": "execute_result"
    }
   ],
   "source": [
    "df"
   ]
  },
  {
   "cell_type": "code",
   "execution_count": 16,
   "metadata": {},
   "outputs": [
    {
     "data": {
      "text/plain": [
       "0    0.620606\n",
       "1    0.601923\n",
       "2    0.330065\n",
       "3    0.330935\n",
       "4    0.224719\n",
       "5    0.058981\n",
       "Name: Male-Ratio, dtype: float64"
      ]
     },
     "execution_count": 16,
     "metadata": {},
     "output_type": "execute_result"
    }
   ],
   "source": [
    "df['Male-Ratio']"
   ]
  },
  {
   "cell_type": "code",
   "execution_count": 21,
   "metadata": {},
   "outputs": [
    {
     "data": {
      "text/plain": [
       "6"
      ]
     },
     "execution_count": 21,
     "metadata": {},
     "output_type": "execute_result"
    }
   ],
   "source": [
    "(df['Female-Ratio'] > df['Male-Ratio']).sum()"
   ]
  },
  {
   "cell_type": "code",
   "execution_count": 22,
   "metadata": {},
   "outputs": [
    {
     "data": {
      "text/plain": [
       "0    True\n",
       "1    True\n",
       "2    True\n",
       "3    True\n",
       "4    True\n",
       "5    True\n",
       "dtype: bool"
      ]
     },
     "execution_count": 22,
     "metadata": {},
     "output_type": "execute_result"
    }
   ],
   "source": [
    "(df['Female-Ratio'] > df['Male-Ratio'])"
   ]
  },
  {
   "cell_type": "code",
   "execution_count": null,
   "metadata": {},
   "outputs": [],
   "source": []
  },
  {
   "cell_type": "code",
   "execution_count": 23,
   "metadata": {},
   "outputs": [],
   "source": [
    "df = pd.read_csv('1973-UC-Berkeley-Admission-Data-Synthesis-Data.csv')"
   ]
  },
  {
   "cell_type": "code",
   "execution_count": 24,
   "metadata": {},
   "outputs": [
    {
     "data": {
      "text/html": [
       "<div>\n",
       "<style scoped>\n",
       "    .dataframe tbody tr th:only-of-type {\n",
       "        vertical-align: middle;\n",
       "    }\n",
       "\n",
       "    .dataframe tbody tr th {\n",
       "        vertical-align: top;\n",
       "    }\n",
       "\n",
       "    .dataframe thead th {\n",
       "        text-align: right;\n",
       "    }\n",
       "</style>\n",
       "<table border=\"1\" class=\"dataframe\">\n",
       "  <thead>\n",
       "    <tr style=\"text-align: right;\">\n",
       "      <th></th>\n",
       "      <th>Department</th>\n",
       "      <th>Male-Admitted</th>\n",
       "      <th>Male-Denied</th>\n",
       "      <th>Female-Admitted</th>\n",
       "      <th>Female-Denied</th>\n",
       "    </tr>\n",
       "  </thead>\n",
       "  <tbody>\n",
       "    <tr>\n",
       "      <th>0</th>\n",
       "      <td>A</td>\n",
       "      <td>512</td>\n",
       "      <td>313</td>\n",
       "      <td>89</td>\n",
       "      <td>19</td>\n",
       "    </tr>\n",
       "    <tr>\n",
       "      <th>1</th>\n",
       "      <td>B</td>\n",
       "      <td>313</td>\n",
       "      <td>207</td>\n",
       "      <td>17</td>\n",
       "      <td>8</td>\n",
       "    </tr>\n",
       "    <tr>\n",
       "      <th>2</th>\n",
       "      <td>C</td>\n",
       "      <td>101</td>\n",
       "      <td>205</td>\n",
       "      <td>202</td>\n",
       "      <td>391</td>\n",
       "    </tr>\n",
       "    <tr>\n",
       "      <th>3</th>\n",
       "      <td>D</td>\n",
       "      <td>138</td>\n",
       "      <td>279</td>\n",
       "      <td>131</td>\n",
       "      <td>244</td>\n",
       "    </tr>\n",
       "    <tr>\n",
       "      <th>4</th>\n",
       "      <td>E</td>\n",
       "      <td>40</td>\n",
       "      <td>138</td>\n",
       "      <td>94</td>\n",
       "      <td>299</td>\n",
       "    </tr>\n",
       "    <tr>\n",
       "      <th>5</th>\n",
       "      <td>F</td>\n",
       "      <td>22</td>\n",
       "      <td>351</td>\n",
       "      <td>24</td>\n",
       "      <td>317</td>\n",
       "    </tr>\n",
       "  </tbody>\n",
       "</table>\n",
       "</div>"
      ],
      "text/plain": [
       "  Department  Male-Admitted  Male-Denied  Female-Admitted  Female-Denied\n",
       "0          A            512          313               89             19\n",
       "1          B            313          207               17              8\n",
       "2          C            101          205              202            391\n",
       "3          D            138          279              131            244\n",
       "4          E             40          138               94            299\n",
       "5          F             22          351               24            317"
      ]
     },
     "execution_count": 24,
     "metadata": {},
     "output_type": "execute_result"
    }
   ],
   "source": [
    "df"
   ]
  },
  {
   "cell_type": "code",
   "execution_count": 25,
   "metadata": {},
   "outputs": [
    {
     "data": {
      "text/plain": [
       "Department         ABCDEF\n",
       "Male-Admitted        1126\n",
       "Male-Denied          1493\n",
       "Female-Admitted       557\n",
       "Female-Denied        1278\n",
       "dtype: object"
      ]
     },
     "execution_count": 25,
     "metadata": {},
     "output_type": "execute_result"
    }
   ],
   "source": [
    "df.sum()"
   ]
  },
  {
   "cell_type": "code",
   "execution_count": 28,
   "metadata": {},
   "outputs": [
    {
     "data": {
      "text/plain": [
       "0.42993508972890415"
      ]
     },
     "execution_count": 28,
     "metadata": {},
     "output_type": "execute_result"
    }
   ],
   "source": [
    "1126 / (1126 + 1493)"
   ]
  },
  {
   "cell_type": "code",
   "execution_count": 29,
   "metadata": {},
   "outputs": [
    {
     "data": {
      "text/plain": [
       "0.30354223433242505"
      ]
     },
     "execution_count": 29,
     "metadata": {},
     "output_type": "execute_result"
    }
   ],
   "source": [
    "557 / (557 + 1278)"
   ]
  },
  {
   "cell_type": "code",
   "execution_count": 33,
   "metadata": {},
   "outputs": [
    {
     "data": {
      "text/plain": [
       "Department         ABCDEF\n",
       "Male-Admitted        1126\n",
       "Male-Denied          1493\n",
       "Female-Admitted       557\n",
       "Female-Denied        1278\n",
       "dtype: object"
      ]
     },
     "execution_count": 33,
     "metadata": {},
     "output_type": "execute_result"
    }
   ],
   "source": [
    "df.sum()"
   ]
  },
  {
   "cell_type": "code",
   "execution_count": 27,
   "metadata": {},
   "outputs": [
    {
     "data": {
      "text/html": [
       "<div>\n",
       "<style scoped>\n",
       "    .dataframe tbody tr th:only-of-type {\n",
       "        vertical-align: middle;\n",
       "    }\n",
       "\n",
       "    .dataframe tbody tr th {\n",
       "        vertical-align: top;\n",
       "    }\n",
       "\n",
       "    .dataframe thead th {\n",
       "        text-align: right;\n",
       "    }\n",
       "</style>\n",
       "<table border=\"1\" class=\"dataframe\">\n",
       "  <thead>\n",
       "    <tr style=\"text-align: right;\">\n",
       "      <th></th>\n",
       "      <th>Department</th>\n",
       "      <th>Male-Admitted</th>\n",
       "      <th>Male-Denied</th>\n",
       "      <th>Female-Admitted</th>\n",
       "      <th>Female-Denied</th>\n",
       "    </tr>\n",
       "  </thead>\n",
       "  <tbody>\n",
       "    <tr>\n",
       "      <th>0</th>\n",
       "      <td>ABCDEF</td>\n",
       "      <td>1126</td>\n",
       "      <td>1493</td>\n",
       "      <td>557</td>\n",
       "      <td>1278</td>\n",
       "    </tr>\n",
       "  </tbody>\n",
       "</table>\n",
       "</div>"
      ],
      "text/plain": [
       "  Department Male-Admitted Male-Denied Female-Admitted Female-Denied\n",
       "0     ABCDEF          1126        1493             557          1278"
      ]
     },
     "execution_count": 27,
     "metadata": {},
     "output_type": "execute_result"
    }
   ],
   "source": [
    "pd.DataFrame(df.sum()).T"
   ]
  },
  {
   "cell_type": "code",
   "execution_count": 31,
   "metadata": {},
   "outputs": [
    {
     "data": {
      "text/plain": [
       "pandas.core.series.Series"
      ]
     },
     "execution_count": 31,
     "metadata": {},
     "output_type": "execute_result"
    }
   ],
   "source": [
    "type(df.sum())"
   ]
  },
  {
   "cell_type": "code",
   "execution_count": 35,
   "metadata": {},
   "outputs": [],
   "source": [
    "df_university = pd.DataFrame(df.sum()).T"
   ]
  },
  {
   "cell_type": "code",
   "execution_count": 36,
   "metadata": {},
   "outputs": [
    {
     "data": {
      "text/html": [
       "<div>\n",
       "<style scoped>\n",
       "    .dataframe tbody tr th:only-of-type {\n",
       "        vertical-align: middle;\n",
       "    }\n",
       "\n",
       "    .dataframe tbody tr th {\n",
       "        vertical-align: top;\n",
       "    }\n",
       "\n",
       "    .dataframe thead th {\n",
       "        text-align: right;\n",
       "    }\n",
       "</style>\n",
       "<table border=\"1\" class=\"dataframe\">\n",
       "  <thead>\n",
       "    <tr style=\"text-align: right;\">\n",
       "      <th></th>\n",
       "      <th>Department</th>\n",
       "      <th>Male-Admitted</th>\n",
       "      <th>Male-Denied</th>\n",
       "      <th>Female-Admitted</th>\n",
       "      <th>Female-Denied</th>\n",
       "    </tr>\n",
       "  </thead>\n",
       "  <tbody>\n",
       "    <tr>\n",
       "      <th>0</th>\n",
       "      <td>ABCDEF</td>\n",
       "      <td>1126</td>\n",
       "      <td>1493</td>\n",
       "      <td>557</td>\n",
       "      <td>1278</td>\n",
       "    </tr>\n",
       "  </tbody>\n",
       "</table>\n",
       "</div>"
      ],
      "text/plain": [
       "  Department Male-Admitted Male-Denied Female-Admitted Female-Denied\n",
       "0     ABCDEF          1126        1493             557          1278"
      ]
     },
     "execution_count": 36,
     "metadata": {},
     "output_type": "execute_result"
    }
   ],
   "source": [
    "df_university"
   ]
  },
  {
   "cell_type": "code",
   "execution_count": 37,
   "metadata": {},
   "outputs": [
    {
     "data": {
      "text/html": [
       "<div>\n",
       "<style scoped>\n",
       "    .dataframe tbody tr th:only-of-type {\n",
       "        vertical-align: middle;\n",
       "    }\n",
       "\n",
       "    .dataframe tbody tr th {\n",
       "        vertical-align: top;\n",
       "    }\n",
       "\n",
       "    .dataframe thead th {\n",
       "        text-align: right;\n",
       "    }\n",
       "</style>\n",
       "<table border=\"1\" class=\"dataframe\">\n",
       "  <thead>\n",
       "    <tr style=\"text-align: right;\">\n",
       "      <th></th>\n",
       "      <th>Department</th>\n",
       "      <th>Male-Admitted</th>\n",
       "      <th>Male-Denied</th>\n",
       "      <th>Female-Admitted</th>\n",
       "      <th>Female-Denied</th>\n",
       "    </tr>\n",
       "  </thead>\n",
       "  <tbody>\n",
       "    <tr>\n",
       "      <th>0</th>\n",
       "      <td>A</td>\n",
       "      <td>512</td>\n",
       "      <td>313</td>\n",
       "      <td>89</td>\n",
       "      <td>19</td>\n",
       "    </tr>\n",
       "    <tr>\n",
       "      <th>1</th>\n",
       "      <td>B</td>\n",
       "      <td>313</td>\n",
       "      <td>207</td>\n",
       "      <td>17</td>\n",
       "      <td>8</td>\n",
       "    </tr>\n",
       "    <tr>\n",
       "      <th>2</th>\n",
       "      <td>C</td>\n",
       "      <td>101</td>\n",
       "      <td>205</td>\n",
       "      <td>202</td>\n",
       "      <td>391</td>\n",
       "    </tr>\n",
       "    <tr>\n",
       "      <th>3</th>\n",
       "      <td>D</td>\n",
       "      <td>138</td>\n",
       "      <td>279</td>\n",
       "      <td>131</td>\n",
       "      <td>244</td>\n",
       "    </tr>\n",
       "    <tr>\n",
       "      <th>4</th>\n",
       "      <td>E</td>\n",
       "      <td>40</td>\n",
       "      <td>138</td>\n",
       "      <td>94</td>\n",
       "      <td>299</td>\n",
       "    </tr>\n",
       "    <tr>\n",
       "      <th>5</th>\n",
       "      <td>F</td>\n",
       "      <td>22</td>\n",
       "      <td>351</td>\n",
       "      <td>24</td>\n",
       "      <td>317</td>\n",
       "    </tr>\n",
       "  </tbody>\n",
       "</table>\n",
       "</div>"
      ],
      "text/plain": [
       "  Department  Male-Admitted  Male-Denied  Female-Admitted  Female-Denied\n",
       "0          A            512          313               89             19\n",
       "1          B            313          207               17              8\n",
       "2          C            101          205              202            391\n",
       "3          D            138          279              131            244\n",
       "4          E             40          138               94            299\n",
       "5          F             22          351               24            317"
      ]
     },
     "execution_count": 37,
     "metadata": {},
     "output_type": "execute_result"
    }
   ],
   "source": [
    "df"
   ]
  },
  {
   "cell_type": "code",
   "execution_count": 39,
   "metadata": {},
   "outputs": [],
   "source": [
    "df_overall = pd.concat([df, df_university])"
   ]
  },
  {
   "cell_type": "code",
   "execution_count": 40,
   "metadata": {},
   "outputs": [
    {
     "data": {
      "text/html": [
       "<div>\n",
       "<style scoped>\n",
       "    .dataframe tbody tr th:only-of-type {\n",
       "        vertical-align: middle;\n",
       "    }\n",
       "\n",
       "    .dataframe tbody tr th {\n",
       "        vertical-align: top;\n",
       "    }\n",
       "\n",
       "    .dataframe thead th {\n",
       "        text-align: right;\n",
       "    }\n",
       "</style>\n",
       "<table border=\"1\" class=\"dataframe\">\n",
       "  <thead>\n",
       "    <tr style=\"text-align: right;\">\n",
       "      <th></th>\n",
       "      <th>Department</th>\n",
       "      <th>Male-Admitted</th>\n",
       "      <th>Male-Denied</th>\n",
       "      <th>Female-Admitted</th>\n",
       "      <th>Female-Denied</th>\n",
       "    </tr>\n",
       "  </thead>\n",
       "  <tbody>\n",
       "    <tr>\n",
       "      <th>0</th>\n",
       "      <td>A</td>\n",
       "      <td>512</td>\n",
       "      <td>313</td>\n",
       "      <td>89</td>\n",
       "      <td>19</td>\n",
       "    </tr>\n",
       "    <tr>\n",
       "      <th>1</th>\n",
       "      <td>B</td>\n",
       "      <td>313</td>\n",
       "      <td>207</td>\n",
       "      <td>17</td>\n",
       "      <td>8</td>\n",
       "    </tr>\n",
       "    <tr>\n",
       "      <th>2</th>\n",
       "      <td>C</td>\n",
       "      <td>101</td>\n",
       "      <td>205</td>\n",
       "      <td>202</td>\n",
       "      <td>391</td>\n",
       "    </tr>\n",
       "    <tr>\n",
       "      <th>3</th>\n",
       "      <td>D</td>\n",
       "      <td>138</td>\n",
       "      <td>279</td>\n",
       "      <td>131</td>\n",
       "      <td>244</td>\n",
       "    </tr>\n",
       "    <tr>\n",
       "      <th>4</th>\n",
       "      <td>E</td>\n",
       "      <td>40</td>\n",
       "      <td>138</td>\n",
       "      <td>94</td>\n",
       "      <td>299</td>\n",
       "    </tr>\n",
       "    <tr>\n",
       "      <th>5</th>\n",
       "      <td>F</td>\n",
       "      <td>22</td>\n",
       "      <td>351</td>\n",
       "      <td>24</td>\n",
       "      <td>317</td>\n",
       "    </tr>\n",
       "    <tr>\n",
       "      <th>0</th>\n",
       "      <td>ABCDEF</td>\n",
       "      <td>1126</td>\n",
       "      <td>1493</td>\n",
       "      <td>557</td>\n",
       "      <td>1278</td>\n",
       "    </tr>\n",
       "  </tbody>\n",
       "</table>\n",
       "</div>"
      ],
      "text/plain": [
       "  Department Male-Admitted Male-Denied Female-Admitted Female-Denied\n",
       "0          A           512         313              89            19\n",
       "1          B           313         207              17             8\n",
       "2          C           101         205             202           391\n",
       "3          D           138         279             131           244\n",
       "4          E            40         138              94           299\n",
       "5          F            22         351              24           317\n",
       "0     ABCDEF          1126        1493             557          1278"
      ]
     },
     "execution_count": 40,
     "metadata": {},
     "output_type": "execute_result"
    }
   ],
   "source": [
    "df_overall"
   ]
  },
  {
   "cell_type": "code",
   "execution_count": 41,
   "metadata": {},
   "outputs": [],
   "source": [
    "df = df_overall\n",
    "df['Female-Ratio'] = df['Female-Admitted'] / (df['Female-Admitted'] + df['Female-Denied'])\n",
    "df['Male-Ratio'] = df['Male-Admitted'] / (df['Male-Admitted'] + df['Male-Denied'])"
   ]
  },
  {
   "cell_type": "code",
   "execution_count": 42,
   "metadata": {},
   "outputs": [
    {
     "data": {
      "text/html": [
       "<div>\n",
       "<style scoped>\n",
       "    .dataframe tbody tr th:only-of-type {\n",
       "        vertical-align: middle;\n",
       "    }\n",
       "\n",
       "    .dataframe tbody tr th {\n",
       "        vertical-align: top;\n",
       "    }\n",
       "\n",
       "    .dataframe thead th {\n",
       "        text-align: right;\n",
       "    }\n",
       "</style>\n",
       "<table border=\"1\" class=\"dataframe\">\n",
       "  <thead>\n",
       "    <tr style=\"text-align: right;\">\n",
       "      <th></th>\n",
       "      <th>Department</th>\n",
       "      <th>Male-Admitted</th>\n",
       "      <th>Male-Denied</th>\n",
       "      <th>Female-Admitted</th>\n",
       "      <th>Female-Denied</th>\n",
       "      <th>Female-Ratio</th>\n",
       "      <th>Male-Ratio</th>\n",
       "    </tr>\n",
       "  </thead>\n",
       "  <tbody>\n",
       "    <tr>\n",
       "      <th>0</th>\n",
       "      <td>A</td>\n",
       "      <td>512</td>\n",
       "      <td>313</td>\n",
       "      <td>89</td>\n",
       "      <td>19</td>\n",
       "      <td>0.824074</td>\n",
       "      <td>0.620606</td>\n",
       "    </tr>\n",
       "    <tr>\n",
       "      <th>1</th>\n",
       "      <td>B</td>\n",
       "      <td>313</td>\n",
       "      <td>207</td>\n",
       "      <td>17</td>\n",
       "      <td>8</td>\n",
       "      <td>0.68</td>\n",
       "      <td>0.601923</td>\n",
       "    </tr>\n",
       "    <tr>\n",
       "      <th>2</th>\n",
       "      <td>C</td>\n",
       "      <td>101</td>\n",
       "      <td>205</td>\n",
       "      <td>202</td>\n",
       "      <td>391</td>\n",
       "      <td>0.340641</td>\n",
       "      <td>0.330065</td>\n",
       "    </tr>\n",
       "    <tr>\n",
       "      <th>3</th>\n",
       "      <td>D</td>\n",
       "      <td>138</td>\n",
       "      <td>279</td>\n",
       "      <td>131</td>\n",
       "      <td>244</td>\n",
       "      <td>0.349333</td>\n",
       "      <td>0.330935</td>\n",
       "    </tr>\n",
       "    <tr>\n",
       "      <th>4</th>\n",
       "      <td>E</td>\n",
       "      <td>40</td>\n",
       "      <td>138</td>\n",
       "      <td>94</td>\n",
       "      <td>299</td>\n",
       "      <td>0.239186</td>\n",
       "      <td>0.224719</td>\n",
       "    </tr>\n",
       "    <tr>\n",
       "      <th>5</th>\n",
       "      <td>F</td>\n",
       "      <td>22</td>\n",
       "      <td>351</td>\n",
       "      <td>24</td>\n",
       "      <td>317</td>\n",
       "      <td>0.0703812</td>\n",
       "      <td>0.0589812</td>\n",
       "    </tr>\n",
       "    <tr>\n",
       "      <th>0</th>\n",
       "      <td>ABCDEF</td>\n",
       "      <td>1126</td>\n",
       "      <td>1493</td>\n",
       "      <td>557</td>\n",
       "      <td>1278</td>\n",
       "      <td>0.303542</td>\n",
       "      <td>0.429935</td>\n",
       "    </tr>\n",
       "  </tbody>\n",
       "</table>\n",
       "</div>"
      ],
      "text/plain": [
       "  Department Male-Admitted Male-Denied Female-Admitted Female-Denied  \\\n",
       "0          A           512         313              89            19   \n",
       "1          B           313         207              17             8   \n",
       "2          C           101         205             202           391   \n",
       "3          D           138         279             131           244   \n",
       "4          E            40         138              94           299   \n",
       "5          F            22         351              24           317   \n",
       "0     ABCDEF          1126        1493             557          1278   \n",
       "\n",
       "  Female-Ratio Male-Ratio  \n",
       "0     0.824074   0.620606  \n",
       "1         0.68   0.601923  \n",
       "2     0.340641   0.330065  \n",
       "3     0.349333   0.330935  \n",
       "4     0.239186   0.224719  \n",
       "5    0.0703812  0.0589812  \n",
       "0     0.303542   0.429935  "
      ]
     },
     "execution_count": 42,
     "metadata": {},
     "output_type": "execute_result"
    }
   ],
   "source": [
    "df"
   ]
  },
  {
   "cell_type": "code",
   "execution_count": 44,
   "metadata": {},
   "outputs": [],
   "source": [
    "df['Favour-Female'] = df['Female-Ratio'] > df['Male-Ratio']"
   ]
  },
  {
   "cell_type": "code",
   "execution_count": 45,
   "metadata": {},
   "outputs": [
    {
     "data": {
      "text/html": [
       "<div>\n",
       "<style scoped>\n",
       "    .dataframe tbody tr th:only-of-type {\n",
       "        vertical-align: middle;\n",
       "    }\n",
       "\n",
       "    .dataframe tbody tr th {\n",
       "        vertical-align: top;\n",
       "    }\n",
       "\n",
       "    .dataframe thead th {\n",
       "        text-align: right;\n",
       "    }\n",
       "</style>\n",
       "<table border=\"1\" class=\"dataframe\">\n",
       "  <thead>\n",
       "    <tr style=\"text-align: right;\">\n",
       "      <th></th>\n",
       "      <th>Department</th>\n",
       "      <th>Male-Admitted</th>\n",
       "      <th>Male-Denied</th>\n",
       "      <th>Female-Admitted</th>\n",
       "      <th>Female-Denied</th>\n",
       "      <th>Female-Ratio</th>\n",
       "      <th>Male-Ratio</th>\n",
       "      <th>Favour-Female</th>\n",
       "    </tr>\n",
       "  </thead>\n",
       "  <tbody>\n",
       "    <tr>\n",
       "      <th>0</th>\n",
       "      <td>A</td>\n",
       "      <td>512</td>\n",
       "      <td>313</td>\n",
       "      <td>89</td>\n",
       "      <td>19</td>\n",
       "      <td>0.824074</td>\n",
       "      <td>0.620606</td>\n",
       "      <td>True</td>\n",
       "    </tr>\n",
       "    <tr>\n",
       "      <th>1</th>\n",
       "      <td>B</td>\n",
       "      <td>313</td>\n",
       "      <td>207</td>\n",
       "      <td>17</td>\n",
       "      <td>8</td>\n",
       "      <td>0.68</td>\n",
       "      <td>0.601923</td>\n",
       "      <td>True</td>\n",
       "    </tr>\n",
       "    <tr>\n",
       "      <th>2</th>\n",
       "      <td>C</td>\n",
       "      <td>101</td>\n",
       "      <td>205</td>\n",
       "      <td>202</td>\n",
       "      <td>391</td>\n",
       "      <td>0.340641</td>\n",
       "      <td>0.330065</td>\n",
       "      <td>True</td>\n",
       "    </tr>\n",
       "    <tr>\n",
       "      <th>3</th>\n",
       "      <td>D</td>\n",
       "      <td>138</td>\n",
       "      <td>279</td>\n",
       "      <td>131</td>\n",
       "      <td>244</td>\n",
       "      <td>0.349333</td>\n",
       "      <td>0.330935</td>\n",
       "      <td>True</td>\n",
       "    </tr>\n",
       "    <tr>\n",
       "      <th>4</th>\n",
       "      <td>E</td>\n",
       "      <td>40</td>\n",
       "      <td>138</td>\n",
       "      <td>94</td>\n",
       "      <td>299</td>\n",
       "      <td>0.239186</td>\n",
       "      <td>0.224719</td>\n",
       "      <td>True</td>\n",
       "    </tr>\n",
       "    <tr>\n",
       "      <th>5</th>\n",
       "      <td>F</td>\n",
       "      <td>22</td>\n",
       "      <td>351</td>\n",
       "      <td>24</td>\n",
       "      <td>317</td>\n",
       "      <td>0.0703812</td>\n",
       "      <td>0.0589812</td>\n",
       "      <td>True</td>\n",
       "    </tr>\n",
       "    <tr>\n",
       "      <th>0</th>\n",
       "      <td>ABCDEF</td>\n",
       "      <td>1126</td>\n",
       "      <td>1493</td>\n",
       "      <td>557</td>\n",
       "      <td>1278</td>\n",
       "      <td>0.303542</td>\n",
       "      <td>0.429935</td>\n",
       "      <td>False</td>\n",
       "    </tr>\n",
       "  </tbody>\n",
       "</table>\n",
       "</div>"
      ],
      "text/plain": [
       "  Department Male-Admitted Male-Denied Female-Admitted Female-Denied  \\\n",
       "0          A           512         313              89            19   \n",
       "1          B           313         207              17             8   \n",
       "2          C           101         205             202           391   \n",
       "3          D           138         279             131           244   \n",
       "4          E            40         138              94           299   \n",
       "5          F            22         351              24           317   \n",
       "0     ABCDEF          1126        1493             557          1278   \n",
       "\n",
       "  Female-Ratio Male-Ratio  Favour-Female  \n",
       "0     0.824074   0.620606           True  \n",
       "1         0.68   0.601923           True  \n",
       "2     0.340641   0.330065           True  \n",
       "3     0.349333   0.330935           True  \n",
       "4     0.239186   0.224719           True  \n",
       "5    0.0703812  0.0589812           True  \n",
       "0     0.303542   0.429935          False  "
      ]
     },
     "execution_count": 45,
     "metadata": {},
     "output_type": "execute_result"
    }
   ],
   "source": [
    "df"
   ]
  },
  {
   "cell_type": "code",
   "execution_count": null,
   "metadata": {},
   "outputs": [],
   "source": []
  }
 ],
 "metadata": {
  "kernelspec": {
   "display_name": "Python 3",
   "language": "python",
   "name": "python3"
  },
  "language_info": {
   "codemirror_mode": {
    "name": "ipython",
    "version": 3
   },
   "file_extension": ".py",
   "mimetype": "text/x-python",
   "name": "python",
   "nbconvert_exporter": "python",
   "pygments_lexer": "ipython3",
   "version": "3.7.0"
  }
 },
 "nbformat": 4,
 "nbformat_minor": 2
}
