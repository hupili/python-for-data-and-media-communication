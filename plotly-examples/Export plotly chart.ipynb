{
 "cells": [
  {
   "cell_type": "markdown",
   "metadata": {},
   "source": [
    "Default plotly export is not good when embedded onto another webpage. There are two issues:\n",
    "\n",
    "- Toolbox takes up some space\n",
    "- There are margins around: top, bottom, left, and right."
   ]
  },
  {
   "cell_type": "code",
   "execution_count": 1,
   "metadata": {},
   "outputs": [
    {
     "data": {
      "text/html": [
       "<script>requirejs.config({paths: { 'plotly': ['https://cdn.plot.ly/plotly-latest.min']},});if(!window.Plotly) {{require(['plotly'],function(plotly) {window.Plotly=plotly;});}}</script>"
      ],
      "text/vnd.plotly.v1+html": [
       "<script>requirejs.config({paths: { 'plotly': ['https://cdn.plot.ly/plotly-latest.min']},});if(!window.Plotly) {{require(['plotly'],function(plotly) {window.Plotly=plotly;});}}</script>"
      ]
     },
     "metadata": {},
     "output_type": "display_data"
    }
   ],
   "source": [
    "import plotly\n",
    "from plotly.offline import iplot, plot\n",
    "from plotly.graph_objs import Bar\n",
    "from plotly.graph_objs import Scatter, Layout\n",
    "plotly.offline.init_notebook_mode(connected=True)"
   ]
  },
  {
   "cell_type": "code",
   "execution_count": 2,
   "metadata": {},
   "outputs": [
    {
     "data": {
      "application/vnd.plotly.v1+json": {
       "data": [
        {
         "type": "bar",
         "x": [
          1,
          2,
          3,
          4,
          5
         ],
         "y": [
          3,
          2,
          1,
          5,
          5
         ]
        }
       ],
       "layout": {
        "title": "Test Chart"
       }
      },
      "text/html": [
       "<div id=\"b1cd3659-b86c-4409-9ddb-ca9c747ab5f6\" style=\"height: 525px; width: 100%;\" class=\"plotly-graph-div\"></div><script type=\"text/javascript\">require([\"plotly\"], function(Plotly) { window.PLOTLYENV=window.PLOTLYENV || {};window.PLOTLYENV.BASE_URL=\"https://plot.ly\";Plotly.newPlot(\"b1cd3659-b86c-4409-9ddb-ca9c747ab5f6\", [{\"type\": \"bar\", \"x\": [1, 2, 3, 4, 5], \"y\": [3, 2, 1, 5, 5]}], {\"title\": \"Test Chart\"}, {\"showLink\": true, \"linkText\": \"Export to plot.ly\"})});</script>"
      ],
      "text/vnd.plotly.v1+html": [
       "<div id=\"b1cd3659-b86c-4409-9ddb-ca9c747ab5f6\" style=\"height: 525px; width: 100%;\" class=\"plotly-graph-div\"></div><script type=\"text/javascript\">require([\"plotly\"], function(Plotly) { window.PLOTLYENV=window.PLOTLYENV || {};window.PLOTLYENV.BASE_URL=\"https://plot.ly\";Plotly.newPlot(\"b1cd3659-b86c-4409-9ddb-ca9c747ab5f6\", [{\"type\": \"bar\", \"x\": [1, 2, 3, 4, 5], \"y\": [3, 2, 1, 5, 5]}], {\"title\": \"Test Chart\"}, {\"showLink\": true, \"linkText\": \"Export to plot.ly\"})});</script>"
      ]
     },
     "metadata": {},
     "output_type": "display_data"
    }
   ],
   "source": [
    "iplot({\n",
    "    \"data\": [Bar(\n",
    "        x=[1, 2, 3, 4, 5], \n",
    "        y=[3, 2, 1, 5, 5],\n",
    "    )],\n",
    "    \"layout\": Layout(title=\"Test Chart\"),\n",
    "})"
   ]
  },
  {
   "cell_type": "code",
   "execution_count": 3,
   "metadata": {},
   "outputs": [
    {
     "data": {
      "application/vnd.plotly.v1+json": {
       "data": [
        {
         "type": "bar",
         "x": [
          1,
          2,
          3,
          4,
          5
         ],
         "y": [
          3,
          2,
          1,
          5,
          5
         ]
        }
       ],
       "layout": {
        "margin": {
         "l": 0,
         "r": 0,
         "t": 0
        },
        "title": "Test Chart"
       }
      },
      "text/html": [
       "<div id=\"cbd44310-17e9-48d0-93c0-01dc494d18b0\" style=\"height: 525px; width: 100%;\" class=\"plotly-graph-div\"></div><script type=\"text/javascript\">require([\"plotly\"], function(Plotly) { window.PLOTLYENV=window.PLOTLYENV || {};window.PLOTLYENV.BASE_URL=\"https://plot.ly\";Plotly.newPlot(\"cbd44310-17e9-48d0-93c0-01dc494d18b0\", [{\"type\": \"bar\", \"x\": [1, 2, 3, 4, 5], \"y\": [3, 2, 1, 5, 5]}], {\"title\": \"Test Chart\", \"margin\": {\"l\": 0, \"r\": 0, \"t\": 0}}, {\"showLink\": true, \"linkText\": \"Export to plot.ly\", \"displayModeBar\": false})});</script>"
      ],
      "text/vnd.plotly.v1+html": [
       "<div id=\"cbd44310-17e9-48d0-93c0-01dc494d18b0\" style=\"height: 525px; width: 100%;\" class=\"plotly-graph-div\"></div><script type=\"text/javascript\">require([\"plotly\"], function(Plotly) { window.PLOTLYENV=window.PLOTLYENV || {};window.PLOTLYENV.BASE_URL=\"https://plot.ly\";Plotly.newPlot(\"cbd44310-17e9-48d0-93c0-01dc494d18b0\", [{\"type\": \"bar\", \"x\": [1, 2, 3, 4, 5], \"y\": [3, 2, 1, 5, 5]}], {\"title\": \"Test Chart\", \"margin\": {\"l\": 0, \"r\": 0, \"t\": 0}}, {\"showLink\": true, \"linkText\": \"Export to plot.ly\", \"displayModeBar\": false})});</script>"
      ]
     },
     "metadata": {},
     "output_type": "display_data"
    }
   ],
   "source": [
    "iplot({\n",
    "    \"data\": [Bar(\n",
    "        x=[1, 2, 3, 4, 5], \n",
    "        y=[3, 2, 1, 5, 5],\n",
    "    )],\n",
    "    \"layout\": Layout(\n",
    "        title=\"Test Chart\",\n",
    "        margin={\n",
    "            \"l\": 0,\n",
    "            \"r\": 0,\n",
    "            \"t\": 0,\n",
    "#             \"b\": 0\n",
    "        }\n",
    "    ),\n",
    "}, config={\n",
    "        \"displayModeBar\": False\n",
    "})"
   ]
  },
  {
   "cell_type": "code",
   "execution_count": 4,
   "metadata": {},
   "outputs": [
    {
     "data": {
      "text/plain": [
       "'file:///Users/hupili/Desktop/project/python-for-data-and-media-communication/plotly-examples/chart.html'"
      ]
     },
     "execution_count": 4,
     "metadata": {},
     "output_type": "execute_result"
    }
   ],
   "source": [
    "plot({\n",
    "    \"data\": [Bar(\n",
    "        x=[1, 2, 3, 4, 5], \n",
    "        y=[3, 2, 1, 5, 5],\n",
    "    )],\n",
    "    \"layout\": Layout(\n",
    "        title=\"Test Chart\",\n",
    "        margin={\n",
    "            \"l\": 0,\n",
    "            \"r\": 0,\n",
    "            \"t\": 0,\n",
    "            \"b\": 30\n",
    "        }\n",
    "    ),\n",
    "}, config={\n",
    "        \"displayModeBar\": False\n",
    "}, filename='chart.html')"
   ]
  },
  {
   "cell_type": "code",
   "execution_count": 5,
   "metadata": {},
   "outputs": [],
   "source": [
    "from IPython.core.display import HTML\n",
    "from IPython.display import IFrame"
   ]
  },
  {
   "cell_type": "code",
   "execution_count": 6,
   "metadata": {},
   "outputs": [
    {
     "data": {
      "text/html": [
       "\n",
       "        <iframe\n",
       "            width=\"100\"\n",
       "            height=\"100\"\n",
       "            src=\"chart.html\"\n",
       "            frameborder=\"0\"\n",
       "            allowfullscreen\n",
       "        ></iframe>\n",
       "        "
      ],
      "text/plain": [
       "<IPython.lib.display.IFrame at 0x1058bef28>"
      ]
     },
     "execution_count": 6,
     "metadata": {},
     "output_type": "execute_result"
    }
   ],
   "source": [
    "IFrame('chart.html', 100, 100)"
   ]
  },
  {
   "cell_type": "code",
   "execution_count": 7,
   "metadata": {},
   "outputs": [
    {
     "data": {
      "text/html": [
       "\n",
       "        <iframe\n",
       "            width=\"400\"\n",
       "            height=\"300\"\n",
       "            src=\"chart.html\"\n",
       "            frameborder=\"0\"\n",
       "            allowfullscreen\n",
       "        ></iframe>\n",
       "        "
      ],
      "text/plain": [
       "<IPython.lib.display.IFrame at 0x1058bed68>"
      ]
     },
     "execution_count": 7,
     "metadata": {},
     "output_type": "execute_result"
    }
   ],
   "source": [
    "IFrame('chart.html', 400, 300)"
   ]
  },
  {
   "cell_type": "code",
   "execution_count": 8,
   "metadata": {},
   "outputs": [
    {
     "data": {
      "text/html": [
       "\n",
       "        <iframe\n",
       "            width=\"300\"\n",
       "            height=\"300\"\n",
       "            src=\"chart.html\"\n",
       "            frameborder=\"0\"\n",
       "            allowfullscreen\n",
       "        ></iframe>\n",
       "        "
      ],
      "text/plain": [
       "<IPython.lib.display.IFrame at 0x1058be7f0>"
      ]
     },
     "execution_count": 8,
     "metadata": {},
     "output_type": "execute_result"
    }
   ],
   "source": [
    "IFrame('chart.html', 300, 300)"
   ]
  },
  {
   "cell_type": "code",
   "execution_count": null,
   "metadata": {},
   "outputs": [],
   "source": []
  }
 ],
 "metadata": {
  "kernelspec": {
   "display_name": "Python 3",
   "language": "python",
   "name": "python3"
  },
  "language_info": {
   "codemirror_mode": {
    "name": "ipython",
    "version": 3
   },
   "file_extension": ".py",
   "mimetype": "text/x-python",
   "name": "python",
   "nbconvert_exporter": "python",
   "pygments_lexer": "ipython3",
   "version": "3.6.4"
  }
 },
 "nbformat": 4,
 "nbformat_minor": 2
}
